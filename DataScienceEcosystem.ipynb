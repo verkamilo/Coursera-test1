{
 "cells": [
  {
   "metadata": {},
   "cell_type": "markdown",
   "source": "# Data Science Tools and Ecosystem",
   "id": "965e823740384210"
  },
  {
   "metadata": {},
   "cell_type": "markdown",
   "source": "In this notebook, Data Science Tools and Ecosystem are summarized.",
   "id": "d00f0840a6715a1c"
  },
  {
   "metadata": {},
   "cell_type": "markdown",
   "source": [
    "__Objectives__\n",
    "\n",
    "Popular languages for Data Science\n",
    "- SQL\n",
    "- R\n",
    "- Python\n"
   ],
   "id": "b433e45734b15f86"
  },
  {
   "metadata": {},
   "cell_type": "markdown",
   "source": [
    "Some of the popular languages that Data Scientists use are:\n",
    "1. R\n",
    "2. Python\n",
    "3. Julia\n",
    "4. SQL"
   ],
   "id": "e1ef2d5d88fc390"
  },
  {
   "metadata": {},
   "cell_type": "markdown",
   "source": [
    "Some of the commonly used libraries used by Data Scientists include:\n",
    "- pandas\n",
    "- matplotlib\n",
    "- numpy"
   ],
   "id": "b902316b0f8202dd"
  },
  {
   "metadata": {},
   "cell_type": "markdown",
   "source": [
    "| Data Science Tools |\n",
    "|--------------------|\n",
    "| GitHub             |\n",
    "| Visual Studio Code |\n",
    "| R Studion          |"
   ],
   "id": "a7bcf3426262ce25"
  },
  {
   "metadata": {},
   "cell_type": "markdown",
   "source": "### Below are a few examples of evaluating arithmetic expressions in Python. ",
   "id": "4707698f18eb2126"
  },
  {
   "metadata": {
    "ExecuteTime": {
     "end_time": "2024-11-27T15:45:29.800804Z",
     "start_time": "2024-11-27T15:45:29.784945Z"
    }
   },
   "cell_type": "code",
   "source": [
    "# This a simple arithmetic expression to mutiply then add integers\n",
    "(3*4)+5"
   ],
   "id": "bf2069e9e592866",
   "outputs": [
    {
     "data": {
      "text/plain": [
       "17"
      ]
     },
     "execution_count": 1,
     "metadata": {},
     "output_type": "execute_result"
    }
   ],
   "execution_count": 1
  },
  {
   "metadata": {
    "ExecuteTime": {
     "end_time": "2024-11-27T16:06:46.635249Z",
     "start_time": "2024-11-27T16:06:46.626548Z"
    }
   },
   "cell_type": "code",
   "source": [
    "# This will convert 200 minutes to hours by diving by 60\n",
    "# convert_minutes_to_hours = 200/60\n",
    "# convert_minutes_to_hours\n",
    "\n",
    "minutes = 200\n",
    "hours = minutes // 60\n",
    "hours\n",
    "\n",
    "# / floating point division -> returns float representing result ( 5 / 2 = 2.5)\n",
    "# // floor division -> (5 / 2 = 2)"
   ],
   "id": "3195cdaa6357ce2",
   "outputs": [
    {
     "data": {
      "text/plain": [
       "3"
      ]
     },
     "execution_count": 12,
     "metadata": {},
     "output_type": "execute_result"
    }
   ],
   "execution_count": 12
  },
  {
   "metadata": {},
   "cell_type": "markdown",
   "source": "",
   "id": "c9df277fe566a1df"
  },
  {
   "metadata": {},
   "cell_type": "markdown",
   "source": [
    "## Author\n",
    "Vera Milotova"
   ],
   "id": "6221f60f12c9a320"
  }
 ],
 "metadata": {
  "kernelspec": {
   "display_name": "Python 3",
   "language": "python",
   "name": "python3"
  },
  "language_info": {
   "codemirror_mode": {
    "name": "ipython",
    "version": 2
   },
   "file_extension": ".py",
   "mimetype": "text/x-python",
   "name": "python",
   "nbconvert_exporter": "python",
   "pygments_lexer": "ipython2",
   "version": "2.7.6"
  }
 },
 "nbformat": 4,
 "nbformat_minor": 5
}
